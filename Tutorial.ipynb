{
 "cells": [
  {
   "cell_type": "markdown",
   "metadata": {},
   "source": [
    "# $orvara$ tutorial"
   ]
  },
  {
   "cell_type": "markdown",
   "metadata": {},
   "source": [
    "## Please make sure you are running this notebook from within the root directory!"
   ]
  },
  {
   "cell_type": "code",
   "execution_count": null,
   "metadata": {},
   "outputs": [],
   "source": [
    "ls"
   ]
  },
  {
   "cell_type": "markdown",
   "metadata": {},
   "source": [
    "### The above verifies that you are in the root directory.\n",
    "You should see something like:\n",
    "\n",
    "\n",
    "    build/                    HGCA_vEDR3.fits  orvara/           README.rst\n",
    "    CHANGES.md                LICENCE          orvara.egg-info/  setup.py\n",
    "    HGCA_vDR2_corrected.fits  misc/            pytest.ini        Tutorial.ipynb"
   ]
  },
  {
   "cell_type": "markdown",
   "metadata": {},
   "source": [
    "## Now that you are in the root directory, lets install orvara.\n",
    "\n",
    "### Warning about path names:\n",
    "DO NOT run orbit fits from paths that contain files with spaces. This can cause python to fail at finding various input files. So if you install orvara and run from:\n",
    "\n",
    "    /user/your name/Research Projects/orvara/\n",
    "That may cause failures. But:\n",
    "\n",
    "    /user/yourname/ResearchProjects/orvara/\n",
    "\n",
    "is OK. If you are stuck with path names with spaces: You can always try first to see if it works with your directory paths, if you have spaces involved. But if you get a wierd error (especially when you the orbit fit has yet to actually start and is only trying to load in data), your path names containing spaces are probably the issue."
   ]
  },
  {
   "cell_type": "markdown",
   "metadata": {},
   "source": [
    "# Note: there is no need to run this following cell if you already have orvara installed."
   ]
  },
  {
   "cell_type": "code",
   "execution_count": null,
   "metadata": {},
   "outputs": [],
   "source": [
    "!pip install -e ."
   ]
  },
  {
   "cell_type": "markdown",
   "metadata": {},
   "source": [
    "If you see: \"Successfully installed orvara-X.X.X\"\n",
    "\n",
    "With X.X.X being the version number,\n",
    "Great!\n",
    "\n",
    "## if you installed orvara with the above cell, then restart the Kernal in this jupyter notebook, then continue with the next cell."
   ]
  },
  {
   "cell_type": "markdown",
   "metadata": {},
   "source": [
    "### Run pytest to make sure that the tests pass"
   ]
  },
  {
   "cell_type": "markdown",
   "metadata": {},
   "source": [
    "This will run a small suite of tests. This should take < 30 seconds. It will complete with a few warnings -- that is OK.\n",
    "\n",
    "**If this cell hangs for a long time (more than 3 minutes)-- please skip this cell and continue.**\n",
    "\n",
    "If any of the tests fail, something is wrong with the install. Try running \"pip install -e .\" again If the issue persists, please submit an issue ticket!"
   ]
  },
  {
   "cell_type": "code",
   "execution_count": null,
   "metadata": {},
   "outputs": [],
   "source": [
    "!pytest -sv -m \"not e2e\""
   ]
  },
  {
   "cell_type": "markdown",
   "metadata": {},
   "source": [
    "### Check the usage of fit_orbit and plot_orbit"
   ]
  },
  {
   "cell_type": "markdown",
   "metadata": {},
   "source": [
    "fit_orbit and plot_orbit are the key commands to operate this package. Run --h to see their functionality. "
   ]
  },
  {
   "cell_type": "markdown",
   "metadata": {},
   "source": [
    "both commands require one optional argument --output-dir immediately followed by the desired directory to write output to. fit_orbit outputs the MCMC chain from the fit and plot_orbit outputs a set of publication-quality plots. If --output-dir flag is omitted, the output directory will be automatically set to the current working directory by default. \n",
    "\n",
    "Following the output directory is the configuration file tailored to the system you are fitting. Example configuration files can be found in /orvara/tests/."
   ]
  },
  {
   "cell_type": "code",
   "execution_count": null,
   "metadata": {},
   "outputs": [],
   "source": [
    "!fit_orbit --h"
   ]
  },
  {
   "cell_type": "code",
   "execution_count": null,
   "metadata": {},
   "outputs": [],
   "source": [
    "!plot_orbit --h"
   ]
  },
  {
   "cell_type": "markdown",
   "metadata": {},
   "source": [
    "### Running an example of fit_orbit, we will fit orbit to the White Dwarf - Main Sequence (WD-MS) binary system HD159062. "
   ]
  },
  {
   "cell_type": "markdown",
   "metadata": {},
   "source": [
    "The customizable configuration file for HD 159062 is located in orvara/tests/"
   ]
  },
  {
   "cell_type": "markdown",
   "metadata": {},
   "source": [
    "So let's load the config.ini file for HD 159062 here:"
   ]
  },
  {
   "cell_type": "code",
   "execution_count": null,
   "metadata": {},
   "outputs": [],
   "source": [
    "ls orvara/tests/"
   ]
  },
  {
   "cell_type": "code",
   "execution_count": null,
   "metadata": {},
   "outputs": [],
   "source": [
    "def display_file(fpath):\n",
    "    with open(fpath, 'r') as f:\n",
    "        lines = f.readlines()\n",
    "        for line in lines:\n",
    "            line = line.rstrip('\\n')\n",
    "            print(line)"
   ]
  },
  {
   "cell_type": "code",
   "execution_count": null,
   "metadata": {},
   "outputs": [],
   "source": [
    "print('This is what an orvara configuration file looks like:')\n",
    "display_file('orvara/tests/config_HD159062.ini')"
   ]
  },
  {
   "cell_type": "markdown",
   "metadata": {},
   "source": [
    "## Take note of the setting above in mcmc_settings:\n",
    "    use_epoch_astrometry = True\n",
    "\n",
    "This uses a precise treatment for the Hipparcos and Gaia absolute astrometry. If it is set to True, then the directory paths in the config file: GaiaDataDir, Hip1DataDir, and Hip2DataDir, have to exist. Orvara will not make them for you. Orvara will, however, download the appropriate Intermediate Data Files for your source into those folders. Note that for this tutorial the directories have already been created and the files have already been downloaded.\n",
    "\n",
    "For a new fit, it is possible that downloading of the intermediate data files does not work. In this case ,you can just set use_epoch_astrometry = False and proceed with your fits. In most cases, setting it to False is entirely fine and will result in nearly identical fits to the True case. You can troubleshoot (or download the files manually and place them in the appropriate directories) and set this parameter to True later. "
   ]
  },
  {
   "cell_type": "markdown",
   "metadata": {},
   "source": [
    "Next, let's load the data sets needed for orbit fitting. There are three data types in general: RV, relative astrometry, or/and absolute astrometry. HD 159062 has all. Example data files are located in orvara/tests/data. Let's display them here:"
   ]
  },
  {
   "cell_type": "code",
   "execution_count": null,
   "metadata": {},
   "outputs": [],
   "source": [
    "ls orvara/tests/data"
   ]
  },
  {
   "cell_type": "markdown",
   "metadata": {},
   "source": [
    "This is the RV data, it has four columns: Epoch[JD], RV[m/s], RV_err[m/s] and InstrumentID"
   ]
  },
  {
   "cell_type": "code",
   "execution_count": null,
   "metadata": {},
   "outputs": [],
   "source": [
    "print('This is what an orvara RV data input file looks like:')\n",
    "display_file('orvara/tests/data/HD159062_RV.dat')"
   ]
  },
  {
   "cell_type": "markdown",
   "metadata": {},
   "source": [
    "This is the relative astrometry file for HD 159062. It has seven columns: Date      , Sep (arcsec) , Err_sep  ,    PA (degrees),  Err_PA  Corr_Sep_PA, and  PlanetID. Planet ID depends on how many planets are in the system, 0 denotes the innermost planet, the second innermost is denoted 1 and so on."
   ]
  },
  {
   "cell_type": "code",
   "execution_count": null,
   "metadata": {},
   "outputs": [],
   "source": [
    "print('This is what an orvara relative astrometry data input file looks like:')\n",
    "display_file('orvara/tests/data/HD159062_relAST.txt')"
   ]
  },
  {
   "cell_type": "markdown",
   "metadata": {},
   "source": [
    "For absolute astrometry from the HGCA, make sure that the HGCA file (DR2 or eDR3) is specified. We are using Gaia eDR3 version of the HGCA.\n",
    "\n",
    "To use intermediate astrometry, make sure that the parameter use_epoch_astrometry in the config file is set to True.\n",
    "\n",
    "We first recommend running fits with use_epoch_astrometry set to False, then turning it on later.\n",
    "\n",
    "Make sure that the directories for the Gaia and Hipparcos intermediate data, set in the .ini config file, are valid directories. You will need one directory each for Hip1, Hip2, and Gaia.\n",
    "\n",
    "orvara will download any file you need automatically (and save them to the directories you specified), but:\n",
    "\n",
    "You may download the files by hand if you want, and simply put them in the data directory, with filenames containing the hip ID. The Gaia eDR3 observations are publicly accessible via the Gaia Observation Forecast Tool (https : //gaia.esac.esa.int/gost/index.jsp). Gaia files are .csv files queried from GOST. The Hip1 and Hip2 data are (if not, soon) avaliable publically from ESA.\n",
    "\n",
    "Here are those files, with filenames containing HIP85653 are the ones we want for HD 159062. Remember, orvara should download these files automatically in normal use."
   ]
  },
  {
   "cell_type": "code",
   "execution_count": null,
   "metadata": {},
   "outputs": [],
   "source": [
    "ls orvara/tests/data/gaia/"
   ]
  },
  {
   "cell_type": "code",
   "execution_count": null,
   "metadata": {},
   "outputs": [],
   "source": [
    "ls orvara/tests/data/hip1/"
   ]
  },
  {
   "cell_type": "code",
   "execution_count": null,
   "metadata": {},
   "outputs": [],
   "source": [
    "ls orvara/tests/data/hip2/"
   ]
  },
  {
   "cell_type": "markdown",
   "metadata": {},
   "source": [
    "### Now, let's run fit_orbit and plot_orbit commands in the root directory"
   ]
  },
  {
   "cell_type": "markdown",
   "metadata": {},
   "source": [
    "We are going to run an example fit to HD 159062. Verifty that the RV data, relative astrometry data and absolute astrometry data are loaded in correctly to ensure a suceesful fit. Progress bar shows the progress of MCMC. "
   ]
  },
  {
   "cell_type": "code",
   "execution_count": null,
   "metadata": {},
   "outputs": [],
   "source": [
    "!fit_orbit --output-dir orvara/tests/chains orvara/tests/config_HD159062.ini"
   ]
  },
  {
   "cell_type": "markdown",
   "metadata": {},
   "source": [
    "Once you have the MCMC chain output by fit_orbit, feed it to McmcDataFile= in the config file. You can set a burn-in phase for the chain. After that, you are ready to go on to plot the orbits. plot_orbit will generate a suite of 7 plots relavant to RV and Astrometry, and a plot of the MCMC chain to breifly check convergence, and two files containting the beststep and posterior parameters. "
   ]
  },
  {
   "cell_type": "code",
   "execution_count": null,
   "metadata": {},
   "outputs": [],
   "source": [
    "!plot_orbit --output-dir orvara/tests/plots/ orvara/tests/config_HD159062.ini"
   ]
  },
  {
   "cell_type": "markdown",
   "metadata": {},
   "source": [
    "### Great! Your plots are generated in the default or specified output directory."
   ]
  },
  {
   "cell_type": "markdown",
   "metadata": {},
   "source": [
    "You can see the whole sets of plots in the output directory."
   ]
  },
  {
   "cell_type": "code",
   "execution_count": null,
   "metadata": {},
   "outputs": [],
   "source": [
    "ls orvara/tests/plots/"
   ]
  },
  {
   "cell_type": "markdown",
   "metadata": {},
   "source": [
    "## For instance, here is the visual orbit."
   ]
  },
  {
   "cell_type": "code",
   "execution_count": null,
   "metadata": {},
   "outputs": [],
   "source": [
    "from IPython.display import HTML\n",
    "HTML('<iframe src=./orvara/tests/plots/astrometric_orbit_HD159062B.pdf width=700 height=350></iframe>')"
   ]
  },
  {
   "cell_type": "markdown",
   "metadata": {},
   "source": [
    "## We can also inspect the posteriors and chisquareds from the fit:"
   ]
  },
  {
   "cell_type": "code",
   "execution_count": null,
   "metadata": {},
   "outputs": [],
   "source": [
    "print('Here are the chisquared values of the model with respect to the data (for all the input data types):')\n",
    "display_file('orvara/tests/plots/beststep_params_HD159062B.txt')"
   ]
  },
  {
   "cell_type": "code",
   "execution_count": null,
   "metadata": {},
   "outputs": [],
   "source": [
    "print('Here are the posteriors with +- 1 sigma confidence intervals:')\n",
    "display_file('orvara/tests/plots/posterior_params_HD159062B.txt')"
   ]
  },
  {
   "cell_type": "code",
   "execution_count": null,
   "metadata": {},
   "outputs": [],
   "source": []
  }
 ],
 "metadata": {
  "kernelspec": {
   "display_name": "Python 3",
   "language": "python",
   "name": "python3"
  },
  "language_info": {
   "codemirror_mode": {
    "name": "ipython",
    "version": 3
   },
   "file_extension": ".py",
   "mimetype": "text/x-python",
   "name": "python",
   "nbconvert_exporter": "python",
   "pygments_lexer": "ipython3",
   "version": "3.8.10"
  }
 },
 "nbformat": 4,
 "nbformat_minor": 4
}
